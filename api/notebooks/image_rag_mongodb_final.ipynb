{
 "cells": [
  {
   "cell_type": "code",
   "execution_count": 2,
   "metadata": {},
   "outputs": [
    {
     "data": {
      "text/plain": [
       "True"
      ]
     },
     "execution_count": 2,
     "metadata": {},
     "output_type": "execute_result"
    }
   ],
   "source": [
    "from dotenv import load_dotenv\n",
    "from openai import OpenAI\n",
    "import os\n",
    "\n",
    "from glob import glob\n",
    "from math import ceil\n",
    "import os\n",
    "from pathlib import Path\n",
    "from random import choices\n",
    "import re\n",
    "\n",
    "import cv2\n",
    "import matplotlib.pyplot as plt\n",
    "from PIL import Image\n",
    "\n",
    "# I'm using MongoDB as my vector database:\n",
    "from pymongo import MongoClient\n",
    "from pymongo.errors import CollectionInvalid, DuplicateKeyError\n",
    "from pymongo.operations import SearchIndexModel\n",
    "\n",
    "from sentence_transformers import SentenceTransformer # The transformer used to execute the clip model.\n",
    "from tqdm.notebook import tqdm     \n",
    "\n",
    "import certifi\n",
    "\n",
    "load_dotenv(dotenv_path=\"../.env.local\")"
   ]
  },
  {
   "cell_type": "code",
   "execution_count": 3,
   "metadata": {},
   "outputs": [],
   "source": [
    "MONGO_URI = os.getenv(\"MONGO_URI\")\n",
    "\n",
    "DB_NAME = os.getenv(\"DB_NAME\")\n",
    "\n",
    "COLLECTION_NAME = os.getenv(\"COLLECTION_NAME\")\n",
    "\n",
    "ATLAS_INDEX = os.getenv(\"ATLAS_INDEX\")"
   ]
  },
  {
   "cell_type": "code",
   "execution_count": 4,
   "metadata": {},
   "outputs": [
    {
     "name": "stdout",
     "output_type": "stream",
     "text": [
      "\n",
      "Pinged your deployment. You successfully connected to MongoDB!\n"
     ]
    }
   ],
   "source": [
    "ca = certifi.where()\n",
    "\n",
    "client = MongoClient(MONGO_URI, tlsCAFile=ca)\n",
    "# Send a ping to confirm a successful connection\n",
    "try:\n",
    "    client.admin.command('ping')\n",
    "    print(\"\\nPinged your deployment. You successfully connected to MongoDB!\")\n",
    "except Exception as e:\n",
    "    print(e)"
   ]
  },
  {
   "cell_type": "code",
   "execution_count": 5,
   "metadata": {},
   "outputs": [],
   "source": [
    "model = SentenceTransformer(\"clip-ViT-L-14\")\n"
   ]
  },
  {
   "cell_type": "code",
   "execution_count": 6,
   "metadata": {},
   "outputs": [],
   "source": [
    "db = client[DB_NAME]\n",
    "\n",
    "COLLECTION_NAME = \"mongo-img\"\n",
    "\n",
    "collection = db[COLLECTION_NAME]"
   ]
  },
  {
   "cell_type": "code",
   "execution_count": 8,
   "metadata": {},
   "outputs": [],
   "source": [
    "from PIL import Image\n",
    "import requests\n",
    "from io import BytesIO\n",
    "\n",
    "def emb_img(url):\n",
    "    response = requests.get(url)\n",
    "\n",
    "    img = Image.open(BytesIO(response.content))\n",
    "    \n",
    "    return model.encode(img)"
   ]
  },
  {
   "cell_type": "code",
   "execution_count": 9,
   "metadata": {},
   "outputs": [
    {
     "data": {
      "text/plain": [
       "InsertOneResult(ObjectId('666f48c0aca9c039dc0ac3fd'), acknowledged=True)"
      ]
     },
     "execution_count": 9,
     "metadata": {},
     "output_type": "execute_result"
    }
   ],
   "source": [
    "img_1 = \"https://image.tmdb.org/t/p/w500/rr7E0NoGKxvbkb89eR1GwfoYjpA.jpg\"\n",
    "\n",
    "img_2 = \"https://image.tmdb.org/t/p/w500/pB8BM7pdSp6B6Ih7QZ4DrQ3PmJK.jpg\"\n",
    "\n",
    "\n",
    "collection.insert_one(\n",
    "  {\n",
    "    \"embeddings\": emb_img(img_1).tolist(),\n",
    "    \"url\": img_1,\n",
    "    \"source\": \"fight club\"\n",
    "  }\n",
    ")\n",
    "\n",
    "collection.insert_one(\n",
    "  {\n",
    "    \"embeddings\": emb_img(img_2).tolist(),\n",
    "    \"url\": img_2,\n",
    "    \"source\": \"fight club\"\n",
    "  }\n",
    ")"
   ]
  },
  {
   "cell_type": "code",
   "execution_count": 10,
   "metadata": {},
   "outputs": [],
   "source": [
    "ATLAS_INDEX = os.getenv(\"ATLAS_INDEX\")\n",
    "\n",
    "emb = emb_img(\"https://image.tmdb.org/t/p/w500/rr7E0NoGKxvbkb89eR1GwfoYjpA.jpg\")\n",
    "\n",
    "pipeline = [\n",
    "    {\n",
    "        \"$vectorSearch\": {\n",
    "            \"index\": f\"{ATLAS_INDEX}\",\n",
    "            \"path\": \"embeddings\",\n",
    "            \"queryVector\": emb.tolist(),\n",
    "            \"numCandidates\": 5,\n",
    "            \"limit\": 5,\n",
    "        }\n",
    "    },\n",
    "    {\n",
    "        \"$project\": {\n",
    "            \"_id\": 0,\n",
    "            \"url\": 1,\n",
    "            \"source\": 1,\n",
    "            \"score\": {\n",
    "                \"$meta\": \"vectorSearchScore\"\n",
    "            }\n",
    "        }\n",
    "    }\n",
    "]"
   ]
  },
  {
   "cell_type": "code",
   "execution_count": 11,
   "metadata": {},
   "outputs": [],
   "source": [
    "results = list(collection.aggregate(pipeline))"
   ]
  },
  {
   "cell_type": "code",
   "execution_count": 12,
   "metadata": {},
   "outputs": [
    {
     "data": {
      "text/plain": [
       "[{'url': 'https://image.tmdb.org/t/p/w500/rr7E0NoGKxvbkb89eR1GwfoYjpA.jpg',\n",
       "  'source': 'fight club',\n",
       "  'score': 1.0},\n",
       " {'url': 'https://image.tmdb.org/t/p/w500/pB8BM7pdSp6B6Ih7QZ4DrQ3PmJK.jpg',\n",
       "  'source': 'fight club',\n",
       "  'score': 0.8855478167533875}]"
      ]
     },
     "execution_count": 12,
     "metadata": {},
     "output_type": "execute_result"
    }
   ],
   "source": [
    "results"
   ]
  },
  {
   "cell_type": "code",
   "execution_count": 13,
   "metadata": {},
   "outputs": [],
   "source": [
    "ATLAS_INDEX = os.getenv(\"ATLAS_INDEX\")\n",
    "\n",
    "emb = model.encode(\"fight club\")\n",
    "\n",
    "pipeline = [\n",
    "    {\n",
    "        \"$vectorSearch\": {\n",
    "            \"index\": f\"{ATLAS_INDEX}\",\n",
    "            \"path\": \"embeddings\",\n",
    "            \"queryVector\": emb.tolist(),\n",
    "            \"numCandidates\": 5,\n",
    "            \"limit\": 5,\n",
    "        }\n",
    "    },\n",
    "    {\n",
    "        \"$project\": {\n",
    "            \"_id\": 0,\n",
    "            \"url\": 1,\n",
    "            \"source\": 1,\n",
    "            \"score\": {\n",
    "                \"$meta\": \"vectorSearchScore\"\n",
    "            }\n",
    "        }\n",
    "    }\n",
    "]"
   ]
  },
  {
   "cell_type": "code",
   "execution_count": 14,
   "metadata": {},
   "outputs": [],
   "source": [
    "results = list(collection.aggregate(pipeline))"
   ]
  },
  {
   "cell_type": "code",
   "execution_count": 15,
   "metadata": {},
   "outputs": [
    {
     "data": {
      "text/plain": [
       "[{'url': 'https://image.tmdb.org/t/p/w500/rr7E0NoGKxvbkb89eR1GwfoYjpA.jpg',\n",
       "  'source': 'fight club',\n",
       "  'score': 0.6294015645980835},\n",
       " {'url': 'https://image.tmdb.org/t/p/w500/pB8BM7pdSp6B6Ih7QZ4DrQ3PmJK.jpg',\n",
       "  'source': 'fight club',\n",
       "  'score': 0.6255523562431335}]"
      ]
     },
     "execution_count": 15,
     "metadata": {},
     "output_type": "execute_result"
    }
   ],
   "source": [
    "results"
   ]
  },
  {
   "cell_type": "code",
   "execution_count": 16,
   "metadata": {},
   "outputs": [],
   "source": [
    "ATLAS_INDEX = os.getenv(\"ATLAS_INDEX\")\n",
    "\n",
    "emb = model.encode(\"fight club\") + emb_img(\"https://image.tmdb.org/t/p/w500/rr7E0NoGKxvbkb89eR1GwfoYjpA.jpg\")\n",
    "\n",
    "pipeline = [\n",
    "    {\n",
    "        \"$vectorSearch\": {\n",
    "            \"index\": f\"{ATLAS_INDEX}\",\n",
    "            \"path\": \"embeddings\",\n",
    "            \"queryVector\": emb.tolist(),\n",
    "            \"numCandidates\": 5,\n",
    "            \"limit\": 5,\n",
    "        }\n",
    "    },\n",
    "    {\n",
    "        \"$project\": {\n",
    "            \"_id\": 0,\n",
    "            \"url\": 1,\n",
    "            \"source\": 1,\n",
    "            \"score\": {\n",
    "                \"$meta\": \"vectorSearchScore\"\n",
    "            }\n",
    "        }\n",
    "    }\n",
    "]\n"
   ]
  },
  {
   "cell_type": "code",
   "execution_count": 17,
   "metadata": {},
   "outputs": [],
   "source": [
    "results = list(collection.aggregate(pipeline))"
   ]
  },
  {
   "cell_type": "code",
   "execution_count": 18,
   "metadata": {},
   "outputs": [
    {
     "data": {
      "text/plain": [
       "[{'url': 'https://image.tmdb.org/t/p/w500/rr7E0NoGKxvbkb89eR1GwfoYjpA.jpg',\n",
       "  'source': 'fight club',\n",
       "  'score': 0.9218599796295166},\n",
       " {'url': 'https://image.tmdb.org/t/p/w500/pB8BM7pdSp6B6Ih7QZ4DrQ3PmJK.jpg',\n",
       "  'source': 'fight club',\n",
       "  'score': 0.8396159410476685}]"
      ]
     },
     "execution_count": 18,
     "metadata": {},
     "output_type": "execute_result"
    }
   ],
   "source": [
    "results"
   ]
  },
  {
   "cell_type": "code",
   "execution_count": null,
   "metadata": {},
   "outputs": [],
   "source": []
  }
 ],
 "metadata": {
  "kernelspec": {
   "display_name": ".venv",
   "language": "python",
   "name": "python3"
  },
  "language_info": {
   "codemirror_mode": {
    "name": "ipython",
    "version": 3
   },
   "file_extension": ".py",
   "mimetype": "text/x-python",
   "name": "python",
   "nbconvert_exporter": "python",
   "pygments_lexer": "ipython3",
   "version": "3.11.8"
  }
 },
 "nbformat": 4,
 "nbformat_minor": 2
}
