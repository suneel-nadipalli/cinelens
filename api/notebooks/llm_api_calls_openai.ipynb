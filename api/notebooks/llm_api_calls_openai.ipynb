{
 "cells": [
  {
   "cell_type": "code",
   "execution_count": 1,
   "metadata": {},
   "outputs": [
    {
     "data": {
      "text/plain": [
       "True"
      ]
     },
     "execution_count": 1,
     "metadata": {},
     "output_type": "execute_result"
    }
   ],
   "source": [
    "from dotenv import load_dotenv # type: ignore\n",
    "from openai import OpenAI # type: ignore\n",
    "import os\n",
    "\n",
    "load_dotenv(dotenv_path=\"../.env.local\")"
   ]
  },
  {
   "cell_type": "code",
   "execution_count": 15,
   "metadata": {},
   "outputs": [],
   "source": [
    "client = OpenAI(\n",
    "    base_url = \"http://127.0.0.1:8080/v1\", \n",
    "    api_key = \"sk-no-key-required\")\n",
    "\n",
    "\n",
    "system_prompt = \"\"\"\n",
    "\n",
    "You are a movie critic and your job is to identify 5 movies that closest match the given details.\n",
    "You'll make the decision based on the similarity of the details of the movies.\n",
    "The movies will be from a list also provided to you.\n",
    "The details could be the plot, the genre, the actors, the director, the year of release, scene details, keywords, etc.\n",
    "List out the details in a list of JSON format with the following keys: {'rank', 'title'}\n",
    "\n",
    "For example:\n",
    "[{\n",
    "  \"rank\": 1,\n",
    "  \"title\": \"The Shawshank Redemption\"\n",
    "},\n",
    "{\n",
    "  \"rank\": 2,\n",
    "  \"title\": \"The Godfather\"\n",
    "},\n",
    "{\n",
    "  \"rank\": 3,\n",
    "  \"title\": \"The Dark Knight\"\n",
    "},\n",
    "{\n",
    "  \"rank\": 4,\n",
    "    \"title\": \"The Lord of the Rings: The Return of the King\"\n",
    "},\n",
    "{\n",
    "    \"rank\": 5,\n",
    "    \"title\": \"Pulp Fiction\"\n",
    "}]\n",
    "\n",
    "Where rank is the order of the movie in the list by similarity and title is the name of the movie.\n",
    "\n",
    "\"\"\"\n",
    "\n",
    "movies = [\n",
    "    \"Fight Club\",\n",
    "    \"American Psycho\",\n",
    "    \"Se7en\",\n",
    "    \"Taxi Driver\",\n",
    "    \"A Clockwork Orange\",\n",
    "    \"The Machinist\",\n",
    "    \"Memento\",\n",
    "    \"Requiem for a Dream\",\n",
    "    \"Donnie Darko\",\n",
    "    \"The Matrix\",\n",
    "    \"Oldboy\",\n",
    "    \"Pulp Fiction\",\n",
    "    \"The Prestige\",\n",
    "    \"V for Vendetta\",\n",
    "    \"Snatch\",\n",
    "    \"Trainspotting\",\n",
    "    \"Inception\",\n",
    "    \"The Game\",\n",
    "    \"Blade Runner\",\n",
    "    \"Natural Born Killers\"\n",
    "]\n",
    "\n",
    "\n",
    "user_prompt = f\"\"\"\n",
    "\n",
    "An insomniac office worker and a soap salesman form an underground club where men fight to vent their frustrations. \n",
    "As the club grows, it morphs into a subversive movement challenging societal norms and consumer culture, leading to shocking\n",
    "revelations about the office worker's identity and his relationship with the salesman.\n",
    "\n",
    "Based on the details provided, identify 5 movies from the list below that are most similar to the given details:\n",
    "{movies}\n",
    "\n",
    "\"\"\"\n",
    "\n",
    "response = client.chat.completions.create(\n",
    "  model=\"LLaMA_CPP\",\n",
    "  messages=[\n",
    "    {\"role\": \"system\", \"content\": system_prompt},\n",
    "    {\"role\": \"user\", \"content\": user_prompt},\n",
    "  ],\n",
    "  max_tokens=300,\n",
    ")"
   ]
  },
  {
   "cell_type": "code",
   "execution_count": 13,
   "metadata": {},
   "outputs": [
    {
     "name": "stdout",
     "output_type": "stream",
     "text": [
      "1. \"Fight Club\"\n",
      "2. \"American Psycho\"\n",
      "3. \"Se7en\"\n",
      "4. \"Taxi Driver\"\n",
      "5. \"A Clockwork Orange\"\n",
      "6. \"The Machinist\"\n",
      "7. \"Memento\"\n",
      "8. \"Requiem for a Dream\"\n",
      "9. \"Donnie Darko\"\n",
      "10. \"The Matrix\"\n",
      "11. \"Oldboy\"\n",
      "12. \"Pulp Fiction\"\n",
      "13. \"The Prestige\"\n",
      "14. \"V for Vendetta\"\n",
      "15. \"Snatch\"\n",
      "16. \"Trainspotting\"\n",
      "17. \"Inception\"\n",
      "18. \"The Game\"\n",
      "19. \"Blade Runner\"\n",
      "20. \"Natural Born Killers\"\n",
      "\n",
      "Note: The list provided is not exhaustive, and the similarity between the movies is subjective.</s>\n"
     ]
    }
   ],
   "source": [
    "print(response.choices[0].message.content\n",
    ")"
   ]
  },
  {
   "cell_type": "code",
   "execution_count": 1,
   "metadata": {},
   "outputs": [],
   "source": [
    "\n",
    "# client = OpenAI(api_key=os.getenv(\"OPENAI_API_KEY\"))\n",
    "\n",
    "client = OpenAI(\n",
    "    base_url = \"http://127.0.0.1:8080/v1\", \n",
    "    api_key = \"sk-no-key-required\")\n",
    "\n",
    "response = client.chat.completions.create(\n",
    "  model=\"LLaMA_CPP\",\n",
    "  messages=[\n",
    "    {\n",
    "      \"role\": \"user\",\n",
    "      \"content\": [\n",
    "        {\"type\": \"text\", \"text\": \"Which movie is this image from?\"},\n",
    "        {\n",
    "          \"type\": \"image_url\",\n",
    "          \"image_url\": {\n",
    "            \"url\": \"https://image.tmdb.org/t/p/w500/rr7E0NoGKxvbkb89eR1GwfoYjpA.jpg\",\n",
    "          },\n",
    "        },\n",
    "      ],\n",
    "    }\n",
    "  ],\n",
    "  max_tokens=300,\n",
    ")"
   ]
  },
  {
   "cell_type": "code",
   "execution_count": 8,
   "metadata": {},
   "outputs": [],
   "source": [
    "client = OpenAI(\n",
    "    base_url = \"http://127.0.0.1:8080/\", \n",
    "    api_key = \"sk-no-key-required\")\n",
    "\n",
    "response = client.chat.completions.create(\n",
    "  model=\"LLaMA_CPP\",\n",
    "  messages=[\n",
    "    {\n",
    "      \"role\": \"user\",\n",
    "      \"content\": \"Describe what's in the image https://image.tmdb.org/t/p/w500/rr7E0NoGKxvbkb89eR1GwfoYjpA.jpg\"\n",
    "    }\n",
    "  ],\n",
    "  max_tokens=300,\n",
    ")"
   ]
  },
  {
   "cell_type": "code",
   "execution_count": null,
   "metadata": {},
   "outputs": [],
   "source": []
  }
 ],
 "metadata": {
  "kernelspec": {
   "display_name": ".venv",
   "language": "python",
   "name": "python3"
  },
  "language_info": {
   "codemirror_mode": {
    "name": "ipython",
    "version": 3
   },
   "file_extension": ".py",
   "mimetype": "text/x-python",
   "name": "python",
   "nbconvert_exporter": "python",
   "pygments_lexer": "ipython3",
   "version": "3.11.8"
  }
 },
 "nbformat": 4,
 "nbformat_minor": 2
}
