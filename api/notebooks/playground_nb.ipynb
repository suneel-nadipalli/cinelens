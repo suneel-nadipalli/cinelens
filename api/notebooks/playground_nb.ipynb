{
 "cells": [
  {
   "cell_type": "code",
   "execution_count": null,
   "metadata": {},
   "outputs": [],
   "source": []
  },
  {
   "cell_type": "code",
   "execution_count": 2,
   "metadata": {},
   "outputs": [],
   "source": [
    "from pymongo import MongoClient\n",
    "\n",
    "from sentence_transformers import SentenceTransformer\n",
    "\n",
    "import os, certifi\n",
    "\n",
    "from PIL import Image\n",
    "import requests\n",
    "from io import BytesIO\n",
    "\n",
    "from dotenv import load_dotenv\n",
    "\n",
    "load_dotenv(dotenv_path=\"../.env.local\")\n",
    "\n",
    "os.environ[\"OPENAI_API_KEY\"] = os.getenv(\"OPENAI_API_KEY\")\n",
    "\n",
    "model = SentenceTransformer(\"clip-ViT-L-14\")\n",
    "\n",
    "headers = {\n",
    "    \"accept\": \"application/json\",\n",
    "    \"Authorization\": f\"Bearer {os.getenv('TMDB_API_KEY')}\",\n",
    "}\n",
    "\n"
   ]
  },
  {
   "cell_type": "code",
   "execution_count": 3,
   "metadata": {},
   "outputs": [],
   "source": [
    "def emb_img(obj, type=\"url\"):\n",
    "\n",
    "    if type == \"url\":\n",
    "\n",
    "        response = requests.get(obj)\n",
    "\n",
    "        img = Image.open(BytesIO(response.content))\n",
    "        \n",
    "        return model.encode(img)\n",
    "\n",
    "    elif type == \"file\":\n",
    "        img = Image.open(BytesIO(obj.stream.read()))   \n",
    "    \n",
    "        return model.encode(img)\n",
    "    \n",
    "    elif type == \"text\":\n",
    "        return model.encode(obj)\n",
    "\n",
    "def connect_to_mongo():\n",
    "\n",
    "    ca = certifi.where()\n",
    "\n",
    "    MONGO_URI = os.getenv(\"MONGO_URI\")\n",
    "\n",
    "    client = MongoClient(MONGO_URI, tlsCAFile=ca)\n",
    "    # Send a ping to confirm a successful connection\n",
    "    try:\n",
    "        client.admin.command('ping')\n",
    "        print(\"\\nPinged your deployment. You successfully connected to MongoDB!\")\n",
    "    except Exception as e:\n",
    "        print(e)\n",
    "\n",
    "    return client"
   ]
  },
  {
   "cell_type": "code",
   "execution_count": 26,
   "metadata": {},
   "outputs": [
    {
     "name": "stdout",
     "output_type": "stream",
     "text": [
      "\n",
      "Pinged your deployment. You successfully connected to MongoDB!\n"
     ]
    }
   ],
   "source": [
    "client = connect_to_mongo()\n",
    "\n",
    "query = \"https://m.media-amazon.com/images/M/MV5BMTM0NjUxMDk5MF5BMl5BanBnXkFtZTcwNDMxNDY3Mw@@._V1_.jpg\"\n",
    "\n",
    "cl_db = client[os.getenv(\"CINELENS_DB\")]\n",
    "\n",
    "img_col = cl_db[os.getenv(\"IMGS_COL\")]\n",
    "\n",
    "query_emb = emb_img(query, type=\"url\")"
   ]
  },
  {
   "cell_type": "code",
   "execution_count": 27,
   "metadata": {},
   "outputs": [],
   "source": [
    "from dotenv import load_dotenv\n",
    "\n",
    "load_dotenv(dotenv_path=\"../.env.local\")\n",
    "\n",
    "cl_index = os.getenv(\"IMGS_INDEX\")\n",
    "\n",
    "pipeline = [\n",
    "{\n",
    "    \"$vectorSearch\": {\n",
    "        \"index\": \"cl_index\",\n",
    "        \"path\": \"embeddings\",\n",
    "        \"queryVector\": query_emb.tolist(),\n",
    "        \"numCandidates\": 5,\n",
    "        \"limit\": 5,\n",
    "    }\n",
    "},\n",
    "{\n",
    "    \"$project\": {\n",
    "        \"_id\": 0,\n",
    "        \"url\": 1,\n",
    "        \"source\": 1,\n",
    "        \"score\": {\n",
    "            \"$meta\": \"vectorSearchScore\"\n",
    "        }\n",
    "    }\n",
    "}\n",
    "]\n",
    "\n",
    "results = list(img_col.aggregate(pipeline))"
   ]
  },
  {
   "cell_type": "code",
   "execution_count": 28,
   "metadata": {},
   "outputs": [
    {
     "data": {
      "text/plain": [
       "[{'url': 'https://image.tmdb.org/t/p/w500/mor5PrU9cQghuXp7qRw2LedyCRK.jpg',\n",
       "  'source': 'the-shawshank-redemption',\n",
       "  'score': 0.9476538896560669},\n",
       " {'url': 'https://image.tmdb.org/t/p/w500/yM67XrFH3l0GqDbnGR0Q6UjzJoO.jpg',\n",
       "  'source': 'the-shawshank-redemption',\n",
       "  'score': 0.906266450881958},\n",
       " {'url': 'https://image.tmdb.org/t/p/w500/avedvodAZUcwqevBfm8p4G2NziQ.jpg',\n",
       "  'source': 'the-shawshank-redemption',\n",
       "  'score': 0.8965779542922974},\n",
       " {'url': 'https://image.tmdb.org/t/p/w500/hchjeIPybPEgCPVBZgvFa5wHgVU.jpg',\n",
       "  'source': 'the-shawshank-redemption',\n",
       "  'score': 0.8898217678070068},\n",
       " {'url': 'https://image.tmdb.org/t/p/w500/kXfqcdQKsToO0OUXHcrrNCHDBzO.jpg',\n",
       "  'source': 'the-shawshank-redemption',\n",
       "  'score': 0.8851290941238403}]"
      ]
     },
     "execution_count": 28,
     "metadata": {},
     "output_type": "execute_result"
    }
   ],
   "source": [
    "results"
   ]
  },
  {
   "cell_type": "code",
   "execution_count": null,
   "metadata": {},
   "outputs": [],
   "source": []
  }
 ],
 "metadata": {
  "kernelspec": {
   "display_name": ".venv",
   "language": "python",
   "name": "python3"
  },
  "language_info": {
   "codemirror_mode": {
    "name": "ipython",
    "version": 3
   },
   "file_extension": ".py",
   "mimetype": "text/x-python",
   "name": "python",
   "nbconvert_exporter": "python",
   "pygments_lexer": "ipython3",
   "version": "3.11.8"
  }
 },
 "nbformat": 4,
 "nbformat_minor": 2
}
