{
 "cells": [
  {
   "cell_type": "code",
   "execution_count": 1,
   "metadata": {},
   "outputs": [],
   "source": [
    "import os, sys\n",
    "\n",
    "sys.path.append(os.path.abspath(os.path.join('..')))\n",
    "\n",
    "from dotenv import load_dotenv\n",
    "\n",
    "load_dotenv(dotenv_path=\"../.env.local\")\n",
    "\n",
    "os.environ[\"OPENAI_API_KEY\"] = os.getenv(\"OPENAI_API_KEY\")\n",
    "\n",
    "headers = {\n",
    "    \"accept\": \"application/json\",\n",
    "    \"Authorization\": f\"Bearer {os.getenv('TMDB_API_KEY')}\",\n",
    "}"
   ]
  },
  {
   "cell_type": "code",
   "execution_count": 2,
   "metadata": {},
   "outputs": [
    {
     "name": "stderr",
     "output_type": "stream",
     "text": [
      "c:\\Me\\Duke\\Classes\\Summer '24\\MLOps\\cinelens\\api\\env\\lib\\site-packages\\sentence_transformers\\cross_encoder\\CrossEncoder.py:11: TqdmWarning: IProgress not found. Please update jupyter and ipywidgets. See https://ipywidgets.readthedocs.io/en/stable/user_install.html\n",
      "  from tqdm.autonotebook import tqdm, trange\n",
      "USER_AGENT environment variable not set, consider setting it to identify your requests.\n"
     ]
    }
   ],
   "source": [
    "from movie_utils import *\n",
    "\n",
    "from utils import *"
   ]
  },
  {
   "cell_type": "code",
   "execution_count": 3,
   "metadata": {},
   "outputs": [],
   "source": [
    "# titles = [\n",
    "#     'Captain America: Civil War',\n",
    "#     'Abigail',\n",
    "#     'Mission: Impossible - Fallout',\n",
    "#     'John Wick: Chapter 4',\n",
    "#     'Se7en'\n",
    "#     ]\n",
    "\n",
    "# movies = [\n",
    "#     get_details(title, headers)\n",
    "#     for title in titles\n",
    "# ]\n",
    "\n",
    "# movies_new = []\n",
    "\n",
    "# for movie in movies:\n",
    "#     movies_new.append(\n",
    "#         {\n",
    "#             'title': movie['title'],\n",
    "#             'overview': movie['overview'],\n",
    "#             'release_date': movie['release_date'],\n",
    "#             'rating': round(movie['rating'] / 2, 1),\n",
    "#             'tagline': movie['tagline'],\n",
    "#             'poster': movie['poster'],\n",
    "#             'backdrop': movie['backdrop'],\n",
    "#             'runtime': movie['runtime'],\n",
    "#             'genres': (movie['genres']),\n",
    "#             'providers': get_new_providers(movie['providers'])\n",
    "#         }\n",
    "#     )"
   ]
  },
  {
   "cell_type": "code",
   "execution_count": 4,
   "metadata": {},
   "outputs": [],
   "source": [
    "import time\n",
    "\n",
    "from concurrent.futures import ThreadPoolExecutor"
   ]
  },
  {
   "cell_type": "code",
   "execution_count": 5,
   "metadata": {},
   "outputs": [
    {
     "name": "stdout",
     "output_type": "stream",
     "text": [
      "\n",
      "Pinged your deployment. You successfully connected to MongoDB!\n",
      "Using existing file\n",
      "Execution time: 00:01:34\n"
     ]
    }
   ],
   "source": [
    "client = connect_to_mongo()\n",
    "\n",
    "titles = get_titles(n=20) \n",
    "\n",
    "query = \"\"\"\n",
    "A successful banker is wrongfully convicted of murdering his wife and her lover and is sentenced to life\n",
    "imprisonment in a harsh penitentiary. Over the decades, he forms an unlikely friendship with a fellow inmate,\n",
    "a seasoned contraband smuggler. Despite the brutality and corruption within the prison walls, he maintains\n",
    "hope and dignity, using his financial skills to assist the prison staff, ultimately orchestrating a daring\n",
    "and ingenious escape plan. The narrative explores themes of hope, resilience, and the enduring human spirit in the face of adversity.\n",
    "\"\"\"\n",
    "\n",
    "query = \"\"\"\n",
    "A movie about a guy dressed like a bat or something. I don't know, it's got Christian Bale in it.\n",
    "\"\"\"\n",
    "\n",
    "start_time = time.time()\n",
    "\n",
    "res_text = \"\"\n",
    "with ThreadPoolExecutor(max_workers=6) as executor:  # Adjust max_workers based on your system's capabilities\n",
    "    futures = []\n",
    "    futures.append(executor.submit(query_rag_movie, query, client, titles))\n",
    "    \n",
    "    for future in futures:\n",
    "        res_text += future.result()\n",
    "\n",
    "end_time = time.time()\n",
    "\n",
    "elapsed_time = end_time - start_time\n",
    "formatted_time = time.strftime(\"%H:%M:%S\", time.gmtime(elapsed_time))\n",
    "\n",
    "print(f\"Execution time: {formatted_time}\")"
   ]
  },
  {
   "cell_type": "code",
   "execution_count": 6,
   "metadata": {},
   "outputs": [
    {
     "data": {
      "text/plain": [
       "'Return at least 5 movies that are similar to the movie described above among the following: [\\'The Shawshank Redemption\\', \\'The Godfather\\', \\'The Godfather Part II\\', \"Schindler\\'s List\", \\'12 Angry Men\\', \\'The Dark Knight\\', \\'The Green Mile\\', \\'Pulp Fiction\\', \\'The Lord of the Rings: The Return of the King\\', \\'Forrest Gump\\', \\'GoodFellas\\', \\'Fight Club\\', \\'Interstellar\\', \\'Radical\\', \\'Psycho\\', \"One Flew Over the Cuckoo\\'s Nest\", \"Gabriel\\'s Inferno\", \\'Once Upon a Time in America\\', \\'Primal: Tales of Savagery\\', \\'The Lord of the Rings: The Fellowship of the Ring\\'] . Return just the titles of the movies in a Python list.</s>'"
      ]
     },
     "execution_count": 6,
     "metadata": {},
     "output_type": "execute_result"
    }
   ],
   "source": [
    "res_text"
   ]
  },
  {
   "cell_type": "code",
   "execution_count": 7,
   "metadata": {},
   "outputs": [
    {
     "data": {
      "text/plain": [
       "['The Shawshank Redemption',\n",
       " 'The Godfather',\n",
       " 'The Godfather Part II',\n",
       " \"Schindler's List\",\n",
       " '12 Angry Men',\n",
       " 'The Dark Knight',\n",
       " 'The Green Mile',\n",
       " 'Pulp Fiction',\n",
       " 'The Lord of the Rings: The Return of the King',\n",
       " 'Forrest Gump',\n",
       " 'GoodFellas',\n",
       " 'Fight Club',\n",
       " 'Interstellar',\n",
       " 'Radical',\n",
       " 'Psycho',\n",
       " \"One Flew Over the Cuckoo's Nest\",\n",
       " \"Gabriel's Inferno\",\n",
       " 'Once Upon a Time in America',\n",
       " 'Primal: Tales of Savagery',\n",
       " 'The Lord of the Rings: The Fellowship of the Ring']"
      ]
     },
     "execution_count": 7,
     "metadata": {},
     "output_type": "execute_result"
    }
   ],
   "source": [
    "movies = []\n",
    "\n",
    "for title in titles:\n",
    "    if title.lower() in res_text.lower():\n",
    "        movies.append(title)\n",
    "\n",
    "movies"
   ]
  },
  {
   "cell_type": "code",
   "execution_count": 8,
   "metadata": {},
   "outputs": [
    {
     "data": {
      "text/plain": [
       "['The Shawshank Redemption',\n",
       " 'The Godfather',\n",
       " 'The Godfather Part II',\n",
       " \"Schindler's List\",\n",
       " '12 Angry Men']"
      ]
     },
     "execution_count": 8,
     "metadata": {},
     "output_type": "execute_result"
    }
   ],
   "source": [
    "movies[:5]\n"
   ]
  },
  {
   "cell_type": "code",
   "execution_count": null,
   "metadata": {},
   "outputs": [],
   "source": []
  }
 ],
 "metadata": {
  "kernelspec": {
   "display_name": ".venv",
   "language": "python",
   "name": "python3"
  },
  "language_info": {
   "codemirror_mode": {
    "name": "ipython",
    "version": 3
   },
   "file_extension": ".py",
   "mimetype": "text/x-python",
   "name": "python",
   "nbconvert_exporter": "python",
   "pygments_lexer": "ipython3",
   "version": "3.8.8"
  }
 },
 "nbformat": 4,
 "nbformat_minor": 2
}
