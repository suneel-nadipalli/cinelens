{
 "cells": [
  {
   "cell_type": "code",
   "execution_count": 1,
   "metadata": {},
   "outputs": [],
   "source": [
    "import os, sys\n",
    "\n",
    "sys.path.append(os.path.abspath(os.path.join('..')))\n",
    "\n",
    "from dotenv import load_dotenv\n",
    "\n",
    "load_dotenv(dotenv_path=\"../.env.local\")\n",
    "\n",
    "os.environ[\"OPENAI_API_KEY\"] = os.getenv(\"OPENAI_API_KEY\")\n",
    "\n",
    "headers = {\n",
    "    \"accept\": \"application/json\",\n",
    "    \"Authorization\": f\"Bearer {os.getenv('TMDB_API_KEY')}\",\n",
    "}"
   ]
  },
  {
   "cell_type": "code",
   "execution_count": 2,
   "metadata": {},
   "outputs": [
    {
     "name": "stderr",
     "output_type": "stream",
     "text": [
      "c:\\Me\\Duke\\Classes\\Summer '24\\MLOps\\cinelens\\api\\.venv\\Lib\\site-packages\\sentence_transformers\\cross_encoder\\CrossEncoder.py:11: TqdmWarning: IProgress not found. Please update jupyter and ipywidgets. See https://ipywidgets.readthedocs.io/en/stable/user_install.html\n",
      "  from tqdm.autonotebook import tqdm, trange\n",
      "WARNING:root:USER_AGENT environment variable not set, consider setting it to identify your requests.\n"
     ]
    }
   ],
   "source": [
    "from movie_utils import *\n",
    "\n",
    "from utils import *"
   ]
  },
  {
   "cell_type": "code",
   "execution_count": 3,
   "metadata": {},
   "outputs": [],
   "source": [
    "# titles = [\n",
    "#     'Captain America: Civil War',\n",
    "#     'Abigail',\n",
    "#     'Mission: Impossible - Fallout',\n",
    "#     'John Wick: Chapter 4',\n",
    "#     'Se7en'\n",
    "#     ]\n",
    "\n",
    "# movies = [\n",
    "#     get_details(title, headers)\n",
    "#     for title in titles\n",
    "# ]\n",
    "\n",
    "# movies_new = []\n",
    "\n",
    "# for movie in movies:\n",
    "#     movies_new.append(\n",
    "#         {\n",
    "#             'title': movie['title'],\n",
    "#             'overview': movie['overview'],\n",
    "#             'release_date': movie['release_date'],\n",
    "#             'rating': round(movie['rating'] / 2, 1),\n",
    "#             'tagline': movie['tagline'],\n",
    "#             'poster': movie['poster'],\n",
    "#             'backdrop': movie['backdrop'],\n",
    "#             'runtime': movie['runtime'],\n",
    "#             'genres': (movie['genres']),\n",
    "#             'providers': get_new_providers(movie['providers'])\n",
    "#         }\n",
    "#     )"
   ]
  },
  {
   "cell_type": "code",
   "execution_count": null,
   "metadata": {},
   "outputs": [],
   "source": []
  },
  {
   "cell_type": "code",
   "execution_count": null,
   "metadata": {},
   "outputs": [],
   "source": []
  },
  {
   "cell_type": "code",
   "execution_count": 4,
   "metadata": {},
   "outputs": [
    {
     "name": "stdout",
     "output_type": "stream",
     "text": [
      "\n",
      "Pinged your deployment. You successfully connected to MongoDB!\n"
     ]
    }
   ],
   "source": [
    "client = connect_to_mongo()\n",
    "\n",
    "query = \"\"\"\n",
    "A successful banker is wrongfully convicted of murdering his wife and her lover and is sentenced to life\n",
    "imprisonment in a harsh penitentiary. Over the decades, he forms an unlikely friendship with a fellow inmate,\n",
    "a seasoned contraband smuggler. Despite the brutality and corruption within the prison walls, he maintains\n",
    "hope and dignity, using his financial skills to assist the prison staff, ultimately orchestrating a daring\n",
    "and ingenious escape plan. The narrative explores themes of hope, resilience, and the enduring human spirit in the face of adversity.\n",
    "\"\"\"\n",
    "\n",
    "# query = \"\"\"\n",
    "# A movie with Batman, Jim Gordon, and Harvey Dent. \n",
    "# It starts Christian Bale and Michael Caine.\n",
    "# It's directed by Christopher Nolan.\n",
    "# \"\"\"\n",
    "\n",
    "resp = query_rag_movie(text=query, client=client)\n",
    "\n",
    "client.close()"
   ]
  },
  {
   "cell_type": "code",
   "execution_count": 5,
   "metadata": {},
   "outputs": [
    {
     "name": "stdout",
     "output_type": "stream",
     "text": [
      "[\"The Shawshank Redemption\", \"Escape from Alcatraz\", \"The Green Mile\", \"Papillon\", \"Cool Hand Luke\"]\n"
     ]
    }
   ],
   "source": [
    "print(resp)"
   ]
  },
  {
   "cell_type": "code",
   "execution_count": 6,
   "metadata": {},
   "outputs": [
    {
     "data": {
      "text/plain": [
       "['The Shawshank Redemption',\n",
       " 'Escape from Alcatraz',\n",
       " 'The Green Mile',\n",
       " 'Papillon',\n",
       " 'Cool Hand Luke']"
      ]
     },
     "execution_count": 6,
     "metadata": {},
     "output_type": "execute_result"
    }
   ],
   "source": [
    "eval(resp)"
   ]
  },
  {
   "cell_type": "code",
   "execution_count": null,
   "metadata": {},
   "outputs": [],
   "source": []
  }
 ],
 "metadata": {
  "kernelspec": {
   "display_name": ".venv",
   "language": "python",
   "name": "python3"
  },
  "language_info": {
   "codemirror_mode": {
    "name": "ipython",
    "version": 3
   },
   "file_extension": ".py",
   "mimetype": "text/x-python",
   "name": "python",
   "nbconvert_exporter": "python",
   "pygments_lexer": "ipython3",
   "version": "3.11.8"
  }
 },
 "nbformat": 4,
 "nbformat_minor": 2
}
